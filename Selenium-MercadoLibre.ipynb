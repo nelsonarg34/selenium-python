{
 "cells": [
  {
   "cell_type": "code",
   "execution_count": 30,
   "id": "cab17e2c",
   "metadata": {},
   "outputs": [],
   "source": [
    "from selenium import webdriver\n",
    "from selenium.webdriver.support.ui import WebDriverWait\n",
    "from selenium.webdriver.common.by import By\n",
    "from selenium.webdriver.support import expected_conditions as EC\n",
    "from selenium.webdriver.common.keys import Keys\n",
    "from time import sleep\n",
    "import pandas as pd\n",
    "import random\n",
    "\n",
    "# Indicamos el navegador y la pagina a scrapear\n",
    "driver = webdriver.Chrome(\"./chromedriver.exe\")\n",
    "driver.get(\"https://www.mercadolibre.com.ar/\")\n",
    "\n",
    "# Ingresar en esta variable lo que se quisiera buscar\n",
    "busqueda = \"autos\"\n",
    "\n",
    "# Buscamos segun los parametros dados\n",
    "barra_busqueda = driver.find_element_by_xpath('//input[@class=\"nav-search-input\"]')\n",
    "barra_busqueda.send_keys(busqueda)\n",
    "barra_busqueda.send_keys(Keys.ENTER)\n",
    "sleep(random.uniform(1.0,2.0)\n",
    "\n",
    "def obtenerDatos(itemSelec):\n",
    "    for i in itemSelec:\n",
    "        precio = i.find_element_by_xpath('.//span[@class=\"price-tag-fraction\"]').text\n",
    "        titulo = i.find_element_by_xpath('.//h2[@class=\"ui-search-item__title ui-search-item__group__element\"]').text\n",
    "        ubicacion = i.find_element_by_xpath('.//span[@class=\"ui-search-item__group__element ui-search-item__location\"]').text\n",
    "        todos.append([titulo,precio,ubicacion])\n",
    "\n",
    "# Aceptamos las cookies\n",
    "cookies = WebDriverWait(driver, 20).until(\n",
    "    EC.element_to_be_clickable((By.XPATH, '//*[@id=\"newCookieDisclaimerButton\"]')))\n",
    "cookies.click()\n",
    "\n",
    "# Confirmación de ubicación\n",
    "sleep(2)\n",
    "ubic = WebDriverWait(driver, 20).until(\n",
    "    EC.element_to_be_clickable((By.XPATH, '//*[@class=\"onboarding-cp-button andes-button andes-button--filled andes-button--small\"]')))\n",
    "ubic.click()\n",
    "\n",
    "# Obtenemos los datos\n",
    "productos = driver.find_elements_by_xpath('//li[@class=\"ui-search-layout__item\"]')\n",
    "todos = list()\n",
    "obtenerDatos(productos)\n",
    "\n",
    "# Avanzamos a la siguiente pagina\n",
    "def avanzarPagina():\n",
    "    path = '//a[@title=\"Siguiente\" and @role=\"button\"]'\n",
    "    pag_siguiente = WebDriverWait(driver, 20).until(\n",
    "        EC.element_to_be_clickable((By.XPATH, path)))\n",
    "    pag_siguiente.click()\n",
    "\n",
    "for i in range(3):\n",
    "    sleep(random.uniform(4.0,6.0))\n",
    "    avanzarPagina()\n",
    "    productos = driver.find_elements_by_xpath('//li[@class=\"ui-search-layout__item\"]')\n",
    "    obtenerDatos(productos)"
   ]
  },
  {
   "cell_type": "code",
   "execution_count": 34,
   "id": "2f0330e2",
   "metadata": {},
   "outputs": [],
   "source": [
    "df = pd.DataFrame(todos, columns = ['Titulo','Precio','Ubicacion'])\n",
    "df.to_csv('df_autos.csv')"
   ]
  },
  {
   "cell_type": "code",
   "execution_count": null,
   "id": "8be05bd5",
   "metadata": {},
   "outputs": [],
   "source": []
  },
  {
   "cell_type": "code",
   "execution_count": null,
   "id": "15df34fc",
   "metadata": {},
   "outputs": [],
   "source": []
  },
  {
   "cell_type": "code",
   "execution_count": null,
   "id": "bea6eec7",
   "metadata": {},
   "outputs": [],
   "source": []
  },
  {
   "cell_type": "code",
   "execution_count": null,
   "id": "3a32730c",
   "metadata": {},
   "outputs": [],
   "source": []
  },
  {
   "cell_type": "code",
   "execution_count": null,
   "id": "eaf848c7",
   "metadata": {},
   "outputs": [],
   "source": []
  },
  {
   "cell_type": "code",
   "execution_count": null,
   "id": "3853c546",
   "metadata": {},
   "outputs": [],
   "source": []
  },
  {
   "cell_type": "code",
   "execution_count": null,
   "id": "99ca3c88",
   "metadata": {},
   "outputs": [],
   "source": []
  },
  {
   "cell_type": "code",
   "execution_count": null,
   "id": "95996bb9",
   "metadata": {},
   "outputs": [],
   "source": []
  },
  {
   "cell_type": "code",
   "execution_count": null,
   "id": "84b716a0",
   "metadata": {},
   "outputs": [],
   "source": []
  },
  {
   "cell_type": "code",
   "execution_count": null,
   "id": "048bb9ea",
   "metadata": {},
   "outputs": [],
   "source": []
  },
  {
   "cell_type": "code",
   "execution_count": null,
   "id": "537103bd",
   "metadata": {},
   "outputs": [],
   "source": []
  },
  {
   "cell_type": "code",
   "execution_count": null,
   "id": "2e41c723",
   "metadata": {},
   "outputs": [],
   "source": []
  },
  {
   "cell_type": "code",
   "execution_count": null,
   "id": "898ace61",
   "metadata": {},
   "outputs": [],
   "source": []
  },
  {
   "cell_type": "code",
   "execution_count": null,
   "id": "2ae884dc",
   "metadata": {},
   "outputs": [],
   "source": []
  },
  {
   "cell_type": "code",
   "execution_count": null,
   "id": "b7096031",
   "metadata": {},
   "outputs": [],
   "source": []
  },
  {
   "cell_type": "code",
   "execution_count": null,
   "id": "55ea6ecc",
   "metadata": {},
   "outputs": [],
   "source": []
  },
  {
   "cell_type": "code",
   "execution_count": null,
   "id": "97a38e0a",
   "metadata": {},
   "outputs": [],
   "source": []
  },
  {
   "cell_type": "code",
   "execution_count": null,
   "id": "2ee33f83",
   "metadata": {},
   "outputs": [],
   "source": []
  },
  {
   "cell_type": "code",
   "execution_count": null,
   "id": "4ff57b96",
   "metadata": {},
   "outputs": [],
   "source": []
  },
  {
   "cell_type": "code",
   "execution_count": null,
   "id": "a67fc08c",
   "metadata": {},
   "outputs": [],
   "source": []
  },
  {
   "cell_type": "code",
   "execution_count": null,
   "id": "15044a8b",
   "metadata": {},
   "outputs": [],
   "source": []
  },
  {
   "cell_type": "code",
   "execution_count": null,
   "id": "cf5bb15e",
   "metadata": {},
   "outputs": [],
   "source": []
  },
  {
   "cell_type": "code",
   "execution_count": null,
   "id": "939b8172",
   "metadata": {},
   "outputs": [],
   "source": []
  },
  {
   "cell_type": "code",
   "execution_count": null,
   "id": "92384c7e",
   "metadata": {},
   "outputs": [],
   "source": []
  },
  {
   "cell_type": "code",
   "execution_count": null,
   "id": "cc8e429d",
   "metadata": {},
   "outputs": [],
   "source": []
  },
  {
   "cell_type": "code",
   "execution_count": null,
   "id": "b2cd380d",
   "metadata": {},
   "outputs": [],
   "source": []
  },
  {
   "cell_type": "code",
   "execution_count": null,
   "id": "218b8f16",
   "metadata": {},
   "outputs": [],
   "source": []
  }
 ],
 "metadata": {
  "kernelspec": {
   "display_name": "Python 3",
   "language": "python",
   "name": "python3"
  },
  "language_info": {
   "codemirror_mode": {
    "name": "ipython",
    "version": 3
   },
   "file_extension": ".py",
   "mimetype": "text/x-python",
   "name": "python",
   "nbconvert_exporter": "python",
   "pygments_lexer": "ipython3",
   "version": "3.9.5"
  }
 },
 "nbformat": 4,
 "nbformat_minor": 5
}

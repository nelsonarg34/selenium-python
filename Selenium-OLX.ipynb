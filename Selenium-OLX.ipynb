{
 "cells": [
  {
   "cell_type": "code",
   "execution_count": 1,
   "id": "8fdde63c",
   "metadata": {},
   "outputs": [],
   "source": [
    "import random\n",
    "from selenium import webdriver\n",
    "from time import sleep\n",
    "import pandas as pd"
   ]
  },
  {
   "cell_type": "code",
   "execution_count": 3,
   "id": "aea317f0",
   "metadata": {},
   "outputs": [],
   "source": [
    "driver = webdriver.Chrome('./chromedriver.exe')\n",
    "driver.get('https://www.olx.com.ar/autos_c378')\n",
    "\n",
    "boton = driver.find_element_by_xpath('//button[@data-aut-id=\"btnLoadMore\"]')\n",
    "\n",
    "for i in range(2):\n",
    "    try:\n",
    "        boton.click()\n",
    "        sleep(random.uniform(8.0,10.0))\n",
    "        boton = driver.find_element_by_xpath('//button[@data-aut-id=\"btnLoadMore\"]')\n",
    "    except:\n",
    "        break\n",
    "autos = driver.find_elements_by_xpath('//li[@data-aut-id=\"itemBox\"]')"
   ]
  },
  {
   "cell_type": "code",
   "execution_count": 11,
   "id": "6628ff52",
   "metadata": {},
   "outputs": [
    {
     "name": "stdout",
     "output_type": "stream",
     "text": [
      "['$ 1.230.000', '$ 1.300.000', '$ 1.210.000', '$ 900.000', '$ 3.300.000', '$ 3.300.000', 'USD 18.000', '$ 350.000', '$ 1.200.000', 'USD 18.500', '$ 725.000', '$ 650.000', '$ 1.250.000', '$ 1.550.000', '$ 1.600.000', '$ 680.000', '$ 1.200.000', '$ 550.000', '$ 250.000', '$ 111.111', '$ 2.000.000', 'USD 26.200', '$ 2.600.000', '$ 740.000', '$ 670.000', '$ 750.000', '$ 595.000', '$ 3.500.000', '$ 300.000', '$ 6.200.000', '$ 790.000', '$ 1.789.990', '$ 600.000', '$ 320.000', '$ 1.400.000', '$ 2.300.000', '$ 1.800.000', '$ 850.000', '$ 1.200.000', '$ 960.000', '$ 6.200.000', '$ 1.550.000', '$ 2.650.000', '$ 960.000', '$ 1.000.000', '$ 850.000', '$ 1.500.000', '$ 2.800.000', '$ 410.000', '$ 1.450.000', '$ 680.000', '$ 670.000', '$ 1.550.000', '$ 650', '$ 650.000', '$ 1.390.000', '$ 130.000', '$ 910.000', '$ 950.000', 'USD 8.000', '$ 2.590.000', '$ 2.100.000', '$ 1.280.000', '$ 870.000', '$ 750.000', '$ 1.600.000', '$ 980.000', 'USD 9.000', '$ 1.350.000', 'USD 10.000', '$ 1.900.000', '$ 120.000', '$ 2.725.000', '$ 450.000', '$ 1.200.000', '$ 750.000', '$ 2.380.000', '$ 1.800.000', 'USD 1.200.000', '$ 1.500.000', '$ 860.000', '$ 3.200.000', '$ 1.950.000', '$ 1.200.000', '$ 1.380.000', '$ 1.320.000', '$ 1.200.000', '$ 1.790.000', '$ 1.090.000', '$ 1.750.000', '$ 5.900.000', '$ 1.250.000', '$ 250.000', '$ 580.000', '$ 90.000', '$ 70.000', '$ 1.980.000', '$ 1.350.000', '$ 1.250.000', '$ 490.000', '$ 1.350.000', '$ 650.000', '$ 890.000', '$ 2.400.000', '$ 2.200.000', '$ 3.300.000', '$ 2.300.000', 'USD 26.000', '$ 750.000', '$ 599.000', '$ 890.000', '$ 1', '$ 699.000', '$ 2.350.000', '$ 3.870.000', '$ 1', '$ 1', '$ 960.000', '$ 1', '$ 930.000']\n",
      "['Peugeot 308 2014 Nafta y GNC', '207 GTI IMPECABLE ESTADO !!', 'PEUGEOT 208', 'POLO GTS $900.000 Y CUOTAS!!!', 'Vendo Fiat Toro', 'Unica en su estado Hilux 2013 Srv pack 4x2 100mil km', 'BMW 750I - 2008', 'Megane 2003', 'Vendo peugeot 208 feline', 'RENAULT 21 TXE 1991 INMACULADO! SOLO PARA EXQUISITOS!', '&gt;&gt;&gt; PEUGEOT &gt; 206 SW PREMIUM &gt; 1.4 NAFTA &gt; AÑO: 2008.', '&gt;&gt; FORD + FIESTA AMBIENTE PLUS + AÑO 2006 + 1.6 NAFTA', '&gt;&gt;&gt; FORD &gt; FIESTA (KD) TREND PLUS &gt; 1.6 NAFTA &gt; AÑO: 2013.', '&gt;&gt;&gt; FORD &gt; FOCUS S &gt; 1.6 NAFTA &gt; AÑO: 2015.', '&gt;&gt;&gt; FORD &gt; ECOSPORT S &gt; 1.6 NAFTA/GNC &gt; AÑO: 2015.', 'Fiat uno 2012 full gnc', '&gt;&gt; FIAT + STRADA WORKING D/C + AÑO 2013 + 1.4 NAFTA', '&gt;&gt; FIAT + UNO FIRE (5 PUERTAS) + AÑO 2008 + 1.3 NAFTA', 'Arenero motor falcon 221', 'PEUGEOT PARTNET PATAGONICA 2013', 'Toyota Corolla XEI 6M/T 2017', 'Vendo Chevrolet', 'Vendo S10 modelo 2016', 'Se vende Volkswagen Gol Trend 1.6 Pack I', 'VENDO CLIO 3 PTA, MODELO 2011, 97000 KM', 'RENAULT MEGANE II LUXE 1.6 2008', 'VENDO CHERY QQ FULL 2013', 'Mercedes benz sprinter 415 CDI 3250 mixta 4+1', 'Volkswagen gol 2005', 'Dodge Ram Laramie 1500', 'VOLKSWAGEN SURAN 2016 CON GNC', 'Volkswagen Fox Connect 2019', 'Corsa cargo 1.4', 'Trafic1.4 gnc', 'Ford Ka 1.5 SE 2015. En La Plata', 'Ford Ranger excelente estado único dueño', 'Honda Civic LXS Mt 2015. En La Plata', 'Renault Clio Mío confort pack SAT 2', 'Vendo partner 2017 1.4', 'FIAT PUNTO SPORTING 1.6 16V', 'Renault Alaskan Iconic', 'vendo dodge journey', 'BMW 320 Executive 44.100 km 2010', 'Vendo Honda CRV', 'FIAT QUBO DYNAMIC 1.4 NAFTA 2014.', 'Vendo Chevrolet onix impecable', 'Recibo vehículo de menor valor en parte de pago', 'RAV4 VX AUTOMATICA 2014', 'Vendo Renault 19', 'C3 Picasso 2015 única mano 74.000km', 'Vendo fiat palio fire 1.4 2011', 'FIAT UNO ATTRACTIVE 2011', '2ª MANO INMACULADA!! Ecosport 2.0 Titanium AT6, 2014', 'Vendo peugeot 207 xt', 'Nahuel villagra', 'Peugeot 208 Allure Touch 1.6 2014 con GNC', 'Fiat duna wekeend', 'Volkswagen Sharan 2009', 'Vendo VW Bora 2.0 nafta', 'HONDA CIVIC LXS 1.8 AT', 'Corolla SEG CVT - Caja Automática 7 Marchas', 'KIA SPORTAGE 2.0 AT 4x2', 'Citroen C4 Lounge 2.0', 'Renault Kangoo 2011 Nafta', 'Peugeot Boxer 1.9 D Mod. 270C', 'Chevrolet Prisma LTZ 2019', 'Ford Fiesta Kinetic Design Titanium 5 Ptas. MT / Nafta / 2013', 'Mercedes benz B180 2011', 'Ford Ka s 1.5 nafta 2017 5 puertas impecable !!!', 'Peugeot 308 gti unico en su estado', 'Ford Focus impecable', 'Vendo urgente', 'Volkswagen golf 1.4 tsi highline', 'CHEVROLET ASTRA GL DIESEL AÑO 2000', 'Kangoo 1.6 full doble porton 3 filas 7 asientos', 'PARTNER PATAGONICA DIESEL', 'Citroen C4 Cactus 1.2', 'Citroën C3', 'Vendo/permuto Mitsubishi Montero', 'Toyota Corolla 2016', 'Gol Trend 1.6 Pack 3', 'Geely Emgrand GS AT 2018 (7.200km)', 'Ford S max 2.3 titanium automatico 3 filas 7 asientos', 'Cruze ltz 1.8 manual 2011', 'Peugeot 308 ALLURE nav 1.6 2015', 'Ford Ranger 3.0 4x4 xl plus tdi 2006 cabina simple', 'Nissan March 1.6 active 2015 con llantas', 'Tracker 1.8 ltz 4 x 2 2014', 'Citroen C3 origine 1.5 2013', 'Vendo ford ranger xl plus', 'Hilux Srv 0km 4x4 2020', 'CHEVROLET ONIX LTZ 1.4', 'Ve dendo Ford f100 motor nuevo GNC.', 'CHEVROLET CORSA II GL 1.7 TDI', 'Fort Falcon', 'LIQUIDO Dodge D100', 'FORD FOCUS III S 1.6', 'VOLKSWAGEN BORA TRENDLINE 1.9 TDI', 'Honda city ELX AT', 'Vendo suzuki fun 2003 1.0 full full aire,cierre centralizado, levanta cristales llantas de aliacion. Impecable', 'Ford ka 2018 full unica mano', 'Vendo FIAT SIENA NAFTA/GNC único dueño', 'FOCUS TREND PLUS 1.8 MOD 2012 DIESEL', 'AMAROK 2013', 'Fiat Toro Diesel Freedom 2017 ,51.000 km único dueño,vendo o permutas de mí interés', 'Amarok Ultimate 4x2', 'Amarok Trideline 4x2', 'Volkswagen Tiguan 1.4 Tsi Trend', 'Vendo Ford Focus', 'Volkswagen Voyage', 'VENDO VW VOYAGE 2014', 'Volkswagen Golf Highline 250 TSI DSG', 'RENAULT CLIO PACK A/A D/H 1.2N 5PTAS | 2007', 'CHEVROLET CRUZE LTZ AT 1.4 TURBO 2017', 'Volkswagen Virtus GTS TSi 1.4 2021 a patentar', 'Honda Civic EX-TURBO', 'Renault Megane III 2.0 16v Privilege', 'Peugeot 207 Compact 1.4 HDI 4p 2013', 'Volkswagen Voyage 1.6 GP 2013', 'Vendo chery QQ 2018.']\n"
     ]
    }
   ],
   "source": [
    "listaPrecio = list()\n",
    "listaDesc = list()\n",
    "\n",
    "for auto in autos:\n",
    "    precio = auto.find_element_by_xpath('.//span[@data-aut-id=\"itemPrice\"]').text\n",
    "    descripcion = auto.find_element_by_xpath('.//span[@data-aut-id=\"itemTitle\"]').text\n",
    "    descripcion = descripcion.strip(' ')\n",
    "    listaPrecio.append(precio)\n",
    "    listaDesc.append(descripcion)\n",
    "print(listaPrecio)\n",
    "print(listaDesc)"
   ]
  },
  {
   "cell_type": "code",
   "execution_count": 14,
   "id": "6f61c9f0",
   "metadata": {},
   "outputs": [],
   "source": [
    "autos_dic = {'Descripcion': listaDesc, 'Precio': listaPrecio}\n",
    "df = pd.DataFrame(autos_dic, columns=['Descripcion','Precio'])\n",
    "df.to_csv('df_autos.csv')"
   ]
  },
  {
   "cell_type": "code",
   "execution_count": null,
   "id": "1dfbda07",
   "metadata": {},
   "outputs": [],
   "source": []
  },
  {
   "cell_type": "code",
   "execution_count": null,
   "id": "5dc44f10",
   "metadata": {},
   "outputs": [],
   "source": []
  },
  {
   "cell_type": "code",
   "execution_count": null,
   "id": "769d0a99",
   "metadata": {},
   "outputs": [],
   "source": []
  },
  {
   "cell_type": "code",
   "execution_count": null,
   "id": "d5772c30",
   "metadata": {},
   "outputs": [],
   "source": []
  },
  {
   "cell_type": "code",
   "execution_count": null,
   "id": "d261c4d2",
   "metadata": {},
   "outputs": [],
   "source": []
  },
  {
   "cell_type": "code",
   "execution_count": null,
   "id": "f19a113e",
   "metadata": {},
   "outputs": [],
   "source": [
    "\n"
   ]
  }
 ],
 "metadata": {
  "kernelspec": {
   "display_name": "Python 3",
   "language": "python",
   "name": "python3"
  },
  "language_info": {
   "codemirror_mode": {
    "name": "ipython",
    "version": 3
   },
   "file_extension": ".py",
   "mimetype": "text/x-python",
   "name": "python",
   "nbconvert_exporter": "python",
   "pygments_lexer": "ipython3",
   "version": "3.9.5"
  }
 },
 "nbformat": 4,
 "nbformat_minor": 5
}
